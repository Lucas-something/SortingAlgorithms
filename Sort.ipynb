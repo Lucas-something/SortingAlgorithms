{
 "cells": [
  {
   "cell_type": "code",
   "execution_count": 1,
   "metadata": {},
   "outputs": [
    {
     "name": "stdout",
     "output_type": "stream",
     "text": [
      "[3, 5, 1, 2, 4]\n",
      "[1, 2, 3, 4, 5]\n"
     ]
    }
   ],
   "source": [
    "def listMakerFunction(listLenght):\n",
    "    list = []\n",
    "    for i in range (0, listLenght):\n",
    "        list.append(int(input(\"Enter your number: \")))\n",
    "    \n",
    "    print(list)\n",
    "    return list\n",
    "\n",
    "def sort(list):\n",
    "    list.sort()\n",
    "    return list\n",
    "\n",
    "\n",
    "\n",
    "listLenght = int(input(\"How many numbers do you want to add to the list? \"))\n",
    "\n",
    "print(sort(listMakerFunction(listLenght)))\n"
   ]
  }
 ],
 "metadata": {
  "kernelspec": {
   "display_name": "myenv",
   "language": "python",
   "name": "python3"
  },
  "language_info": {
   "codemirror_mode": {
    "name": "ipython",
    "version": 3
   },
   "file_extension": ".py",
   "mimetype": "text/x-python",
   "name": "python",
   "nbconvert_exporter": "python",
   "pygments_lexer": "ipython3",
   "version": "3.12.5"
  },
  "orig_nbformat": 4,
  "vscode": {
   "interpreter": {
    "hash": "684ff43e33061ad1880c5801bcaf42e322e7f83bffbde2c4381d6344dc2d1c33"
   }
  }
 },
 "nbformat": 4,
 "nbformat_minor": 2
}
