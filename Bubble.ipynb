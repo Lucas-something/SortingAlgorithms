{
 "cells": [
  {
   "cell_type": "code",
   "execution_count": 2,
   "metadata": {},
   "outputs": [
    {
     "name": "stdout",
     "output_type": "stream",
     "text": [
      "[1, 2, 3, 9, 7, 6, 346, 654, 346, 5]\n",
      "[1, 2, 3, 5, 6, 7, 9, 346, 346, 654]\n"
     ]
    }
   ],
   "source": [
    "def listMakerFunction(listLenght):\n",
    "    list = []\n",
    "    for i in range (0, listLenght):\n",
    "        list.append(int(input(\"Enter your number: \")))\n",
    "\n",
    "    print(list)\n",
    "    return list\n",
    "    \n",
    "def bubbleSort(list):\n",
    "    for i in range(len(list)):\n",
    "        for j in range(0, len(list) - i - 1):\n",
    "            if list[j] > list[j + 1]:\n",
    "                temp = list[j]\n",
    "                list[j] = list[j+1]\n",
    "                list[j+1] = temp\n",
    "    return list\n",
    "\n",
    "listLenght = int(input(\"How many numbers do you want to add to the list? \"))\n",
    "\n",
    "print(bubbleSort(listMakerFunction(listLenght)))"
   ]
  }
 ],
 "metadata": {
  "kernelspec": {
   "display_name": "myenv",
   "language": "python",
   "name": "python3"
  },
  "language_info": {
   "codemirror_mode": {
    "name": "ipython",
    "version": 3
   },
   "file_extension": ".py",
   "mimetype": "text/x-python",
   "name": "python",
   "nbconvert_exporter": "python",
   "pygments_lexer": "ipython3",
   "version": "3.12.5"
  },
  "orig_nbformat": 4,
  "vscode": {
   "interpreter": {
    "hash": "684ff43e33061ad1880c5801bcaf42e322e7f83bffbde2c4381d6344dc2d1c33"
   }
  }
 },
 "nbformat": 4,
 "nbformat_minor": 2
}
